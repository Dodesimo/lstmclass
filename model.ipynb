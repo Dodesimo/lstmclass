{
 "cells": [
  {
   "cell_type": "code",
   "id": "initial_id",
   "metadata": {
    "collapsed": true,
    "ExecuteTime": {
     "end_time": "2025-07-25T23:18:19.844786Z",
     "start_time": "2025-07-25T23:18:19.507026Z"
    }
   },
   "source": [
    "import pandas as pd\n",
    "import numpy as np"
   ],
   "outputs": [],
   "execution_count": 1
  },
  {
   "metadata": {
    "ExecuteTime": {
     "end_time": "2025-07-25T23:18:26.712730Z",
     "start_time": "2025-07-25T23:18:25.527675Z"
    }
   },
   "cell_type": "code",
   "source": [
    "data = pd.read_csv(\"data.csv\")\n",
    "data = data.sample(frac=1)[:500]\n",
    "data"
   ],
   "id": "edc8fc65b93db912",
   "outputs": [
    {
     "data": {
      "text/plain": [
       "                                                    text  generated\n",
       "22110  There are a number of reasons why degree certi...          1\n",
       "26917  We all want to make a positive impact on the w...          1\n",
       "14924  My palms were sweaty. I felt my face getting h...          0\n",
       "20345  \\nHaving a positive attitude is a powerful too...          1\n",
       "28400  Dear Senator, I think that Electoral College i...          0\n",
       "...                                                  ...        ...\n",
       "28944  Car's. relied on by many people. Used to go an...          0\n",
       "14537  Imagine if you only had one person/option to a...          0\n",
       "7573   Everyone knows that traveling outer space can ...          0\n",
       "8378   This technology is good it can be used help co...          0\n",
       "10993  Aliens couldn't have created this! If it is fo...          0\n",
       "\n",
       "[500 rows x 2 columns]"
      ],
      "text/html": [
       "<div>\n",
       "<style scoped>\n",
       "    .dataframe tbody tr th:only-of-type {\n",
       "        vertical-align: middle;\n",
       "    }\n",
       "\n",
       "    .dataframe tbody tr th {\n",
       "        vertical-align: top;\n",
       "    }\n",
       "\n",
       "    .dataframe thead th {\n",
       "        text-align: right;\n",
       "    }\n",
       "</style>\n",
       "<table border=\"1\" class=\"dataframe\">\n",
       "  <thead>\n",
       "    <tr style=\"text-align: right;\">\n",
       "      <th></th>\n",
       "      <th>text</th>\n",
       "      <th>generated</th>\n",
       "    </tr>\n",
       "  </thead>\n",
       "  <tbody>\n",
       "    <tr>\n",
       "      <th>22110</th>\n",
       "      <td>There are a number of reasons why degree certi...</td>\n",
       "      <td>1</td>\n",
       "    </tr>\n",
       "    <tr>\n",
       "      <th>26917</th>\n",
       "      <td>We all want to make a positive impact on the w...</td>\n",
       "      <td>1</td>\n",
       "    </tr>\n",
       "    <tr>\n",
       "      <th>14924</th>\n",
       "      <td>My palms were sweaty. I felt my face getting h...</td>\n",
       "      <td>0</td>\n",
       "    </tr>\n",
       "    <tr>\n",
       "      <th>20345</th>\n",
       "      <td>\\nHaving a positive attitude is a powerful too...</td>\n",
       "      <td>1</td>\n",
       "    </tr>\n",
       "    <tr>\n",
       "      <th>28400</th>\n",
       "      <td>Dear Senator, I think that Electoral College i...</td>\n",
       "      <td>0</td>\n",
       "    </tr>\n",
       "    <tr>\n",
       "      <th>...</th>\n",
       "      <td>...</td>\n",
       "      <td>...</td>\n",
       "    </tr>\n",
       "    <tr>\n",
       "      <th>28944</th>\n",
       "      <td>Car's. relied on by many people. Used to go an...</td>\n",
       "      <td>0</td>\n",
       "    </tr>\n",
       "    <tr>\n",
       "      <th>14537</th>\n",
       "      <td>Imagine if you only had one person/option to a...</td>\n",
       "      <td>0</td>\n",
       "    </tr>\n",
       "    <tr>\n",
       "      <th>7573</th>\n",
       "      <td>Everyone knows that traveling outer space can ...</td>\n",
       "      <td>0</td>\n",
       "    </tr>\n",
       "    <tr>\n",
       "      <th>8378</th>\n",
       "      <td>This technology is good it can be used help co...</td>\n",
       "      <td>0</td>\n",
       "    </tr>\n",
       "    <tr>\n",
       "      <th>10993</th>\n",
       "      <td>Aliens couldn't have created this! If it is fo...</td>\n",
       "      <td>0</td>\n",
       "    </tr>\n",
       "  </tbody>\n",
       "</table>\n",
       "<p>500 rows × 2 columns</p>\n",
       "</div>"
      ]
     },
     "execution_count": 2,
     "metadata": {},
     "output_type": "execute_result"
    }
   ],
   "execution_count": 2
  },
  {
   "metadata": {
    "ExecuteTime": {
     "end_time": "2025-07-25T23:18:46.884982Z",
     "start_time": "2025-07-25T23:18:34.960738Z"
    }
   },
   "cell_type": "code",
   "source": [
    "from transformers import BertTokenizer\n",
    "\n",
    "bert_tokenizer = BertTokenizer.from_pretrained(\"bert-base-uncased\")\n",
    "\n",
    "text = list(data['text'])\n",
    "bert_inputs = bert_tokenizer(text, return_tensors='pt', padding=True, truncation=True)"
   ],
   "id": "39f698652d46ac16",
   "outputs": [],
   "execution_count": 3
  },
  {
   "metadata": {
    "ExecuteTime": {
     "end_time": "2025-07-25T23:22:06.496662Z",
     "start_time": "2025-07-25T23:18:53.839580Z"
    }
   },
   "cell_type": "code",
   "source": [
    "import torch\n",
    "from transformers import BertModel\n",
    "\n",
    "bert_model = BertModel.from_pretrained(\"google-bert/bert-base-uncased\")\n",
    "with torch.no_grad():\n",
    "    outputs = bert_model(**bert_inputs)\n",
    "print(outputs)"
   ],
   "id": "ceb377fd66799afb",
   "outputs": [
    {
     "name": "stdout",
     "output_type": "stream",
     "text": [
      "BaseModelOutputWithPoolingAndCrossAttentions(last_hidden_state=tensor([[[-1.7730e-01, -3.5574e-01, -6.0925e-01,  ..., -5.3108e-01,\n",
      "           6.9245e-02,  3.5103e-01],\n",
      "         [-1.7773e-01,  1.3447e-01, -4.6205e-01,  ...,  8.9789e-02,\n",
      "           4.9648e-01,  2.7831e-01],\n",
      "         [-2.6013e-01,  3.8621e-01,  3.5507e-01,  ..., -2.1198e-01,\n",
      "          -2.3995e-01,  8.4082e-01],\n",
      "         ...,\n",
      "         [ 3.0057e-01,  3.7561e-02,  3.8288e-01,  ..., -1.0957e-01,\n",
      "           4.0365e-02, -3.2347e-01],\n",
      "         [ 4.6950e-01,  9.1386e-02,  6.1893e-01,  ...,  1.9440e-02,\n",
      "           3.0527e-02, -4.0062e-01],\n",
      "         [ 3.8558e-01,  1.1476e-01,  6.6783e-01,  ...,  6.5482e-02,\n",
      "          -4.3345e-02, -3.1522e-01]],\n",
      "\n",
      "        [[ 3.9677e-01, -7.4502e-02, -4.3430e-01,  ..., -3.5542e-01,\n",
      "           7.8577e-01,  1.5696e-01],\n",
      "         [ 1.2042e-01,  4.8464e-01, -2.2403e-01,  ...,  1.7783e-01,\n",
      "           1.4239e+00, -2.4855e-01],\n",
      "         [ 1.8598e-01,  2.8340e-01,  4.1102e-01,  ..., -3.1677e-02,\n",
      "           1.0190e+00,  3.6039e-01],\n",
      "         ...,\n",
      "         [ 5.0472e-01,  1.6379e-01, -1.5486e-01,  ..., -1.1188e-01,\n",
      "          -2.5477e-01, -1.3789e-01],\n",
      "         [ 4.6213e-01, -2.3298e-02,  7.3230e-02,  ...,  1.4415e-01,\n",
      "          -2.1514e-01, -2.3778e-02],\n",
      "         [ 3.7435e-01, -1.0639e-01,  4.4322e-01,  ..., -1.6076e-01,\n",
      "          -9.9523e-02, -5.2738e-01]],\n",
      "\n",
      "        [[ 1.3691e-01, -6.3787e-01, -1.3549e-01,  ..., -2.1483e-01,\n",
      "           3.8689e-01, -3.2454e-02],\n",
      "         [-9.2666e-01,  5.2551e-01,  4.3367e-02,  ...,  9.3412e-03,\n",
      "           7.9049e-01,  5.4163e-01],\n",
      "         [-6.5699e-01,  7.5744e-01,  7.0294e-01,  ..., -1.5520e-01,\n",
      "          -1.9661e-01,  2.5167e-01],\n",
      "         ...,\n",
      "         [ 5.0198e-01,  1.7910e-01,  3.0756e-01,  ..., -4.0147e-01,\n",
      "          -6.9207e-02, -9.0198e-03],\n",
      "         [-2.0627e-01, -8.9722e-01,  3.3307e-01,  ...,  1.0115e-02,\n",
      "           1.0877e-01, -2.4860e-02],\n",
      "         [-6.1261e-02, -2.2321e-01,  4.6681e-01,  ...,  4.5637e-01,\n",
      "           2.1326e-01, -4.5582e-01]],\n",
      "\n",
      "        ...,\n",
      "\n",
      "        [[-3.1941e-01,  1.8513e-01, -3.6332e-01,  ...,  1.6440e-04,\n",
      "           5.6447e-01,  1.3389e-01],\n",
      "         [ 3.1744e-03,  3.0202e-01, -7.3117e-02,  ...,  4.6877e-01,\n",
      "           1.2226e+00,  3.3110e-01],\n",
      "         [ 1.1354e-01,  8.2556e-01,  7.8205e-01,  ...,  2.3938e-01,\n",
      "           6.8053e-01,  8.2093e-01],\n",
      "         ...,\n",
      "         [ 2.8985e-01,  1.0917e-01, -4.9271e-03,  ...,  2.3142e-03,\n",
      "           1.2507e-01,  1.1804e-01],\n",
      "         [ 4.9767e-01,  2.1858e-01,  2.9239e-01,  ...,  5.9130e-02,\n",
      "           7.3561e-02,  4.7467e-02],\n",
      "         [ 1.7153e-01,  5.7424e-02,  4.1812e-01,  ..., -9.0696e-02,\n",
      "           8.9666e-03, -2.5959e-02]],\n",
      "\n",
      "        [[-6.6688e-01, -4.9942e-01,  1.0010e-01,  ..., -6.3292e-01,\n",
      "          -6.9271e-02,  7.8686e-01],\n",
      "         [-4.8488e-01, -5.6736e-01,  2.1894e-01,  ..., -6.3565e-01,\n",
      "           8.0026e-01,  4.7705e-01],\n",
      "         [ 1.2718e-01,  3.6827e-02,  2.4011e-01,  ..., -4.6812e-01,\n",
      "          -3.4561e-01,  8.1526e-01],\n",
      "         ...,\n",
      "         [ 3.0365e-01, -7.1603e-02,  2.6591e-01,  ..., -3.6464e-01,\n",
      "           8.7373e-02, -6.4910e-02],\n",
      "         [ 2.8997e-01, -1.3795e-01,  3.8609e-01,  ..., -2.4107e-01,\n",
      "           3.4869e-02, -2.7661e-01],\n",
      "         [ 2.4122e-01, -9.8096e-02,  3.8716e-01,  ..., -2.5429e-01,\n",
      "           1.0050e-03, -2.9281e-01]],\n",
      "\n",
      "        [[-4.0583e-01, -3.7241e-01, -1.6631e-01,  ..., -3.8604e-01,\n",
      "           5.0780e-01,  5.2692e-01],\n",
      "         [ 1.2099e-01,  5.0129e-01, -2.3935e-01,  ..., -3.4008e-01,\n",
      "           4.3733e-01,  3.3969e-01],\n",
      "         [ 1.7014e+00,  4.6548e-01,  2.5681e-02,  ..., -1.7648e-01,\n",
      "           8.6158e-01,  1.7747e-01],\n",
      "         ...,\n",
      "         [-5.5484e-02, -5.7003e-01,  2.6135e-02,  ...,  2.4305e-01,\n",
      "           2.8771e-01, -7.3381e-02],\n",
      "         [-4.4731e-03, -5.2677e-01,  1.7858e-01,  ...,  1.6505e-01,\n",
      "           1.9300e-01, -6.1129e-02],\n",
      "         [ 2.8722e-01,  5.8772e-02,  3.3114e-01,  ..., -2.0606e-01,\n",
      "           2.2420e-02, -1.4754e-01]]]), pooler_output=tensor([[-0.7302, -0.7709, -0.9997,  ..., -0.9978, -0.7675,  0.1551],\n",
      "        [-0.7384, -0.6513, -0.9946,  ..., -0.9709, -0.7695,  0.2193],\n",
      "        [-0.5497, -0.5217, -0.9852,  ..., -0.9730, -0.5692,  0.6480],\n",
      "        ...,\n",
      "        [-0.3890, -0.5833, -0.9945,  ..., -0.9813, -0.6332,  0.1544],\n",
      "        [-0.6676, -0.4881, -0.9882,  ..., -0.9833, -0.5988,  0.3572],\n",
      "        [-0.6010, -0.5598, -0.9977,  ..., -0.9944, -0.6777,  0.2553]]), hidden_states=None, past_key_values=None, attentions=None, cross_attentions=None)\n"
     ]
    }
   ],
   "execution_count": 4
  },
  {
   "metadata": {
    "ExecuteTime": {
     "end_time": "2025-07-25T23:22:17.090330Z",
     "start_time": "2025-07-25T23:22:16.896022Z"
    }
   },
   "cell_type": "code",
   "source": [
    "embeddings = []\n",
    "for embedding in outputs.last_hidden_state:\n",
    "    embeddings.append(torch.tensor(embedding))"
   ],
   "id": "64a2e15124c1f855",
   "outputs": [
    {
     "name": "stderr",
     "output_type": "stream",
     "text": [
      "/var/folders/lb/yv_2sbb929330plxnsscsby80000gn/T/ipykernel_9190/4221514119.py:3: UserWarning: To copy construct from a tensor, it is recommended to use sourceTensor.detach().clone() or sourceTensor.detach().clone().requires_grad_(True), rather than torch.tensor(sourceTensor).\n",
      "  embeddings.append(torch.tensor(embedding))\n"
     ]
    }
   ],
   "execution_count": 5
  },
  {
   "metadata": {
    "ExecuteTime": {
     "end_time": "2025-07-25T23:22:21.038793Z",
     "start_time": "2025-07-25T23:22:20.955839Z"
    }
   },
   "cell_type": "code",
   "source": [
    "embeddings = pd.Series(embeddings)\n",
    "data['embeddings'] = embeddings.tolist()"
   ],
   "id": "72bdd05d71f44b35",
   "outputs": [],
   "execution_count": 6
  },
  {
   "metadata": {
    "ExecuteTime": {
     "end_time": "2025-07-25T23:26:23.769389Z",
     "start_time": "2025-07-25T23:26:20.395869Z"
    }
   },
   "cell_type": "code",
   "source": "data.to_pickle(\"feature_engineered_embeddings\")",
   "id": "58ab28fe46440ce2",
   "outputs": [],
   "execution_count": 10
  },
  {
   "metadata": {},
   "cell_type": "code",
   "outputs": [],
   "execution_count": null,
   "source": "",
   "id": "d34ebdd37542eaa8"
  }
 ],
 "metadata": {
  "kernelspec": {
   "display_name": "Python 3",
   "language": "python",
   "name": "python3"
  },
  "language_info": {
   "codemirror_mode": {
    "name": "ipython",
    "version": 2
   },
   "file_extension": ".py",
   "mimetype": "text/x-python",
   "name": "python",
   "nbconvert_exporter": "python",
   "pygments_lexer": "ipython2",
   "version": "2.7.6"
  }
 },
 "nbformat": 4,
 "nbformat_minor": 5
}
