{
 "cells": [
  {
   "cell_type": "code",
   "id": "initial_id",
   "metadata": {
    "collapsed": true,
    "ExecuteTime": {
     "end_time": "2025-07-20T02:43:25.277267Z",
     "start_time": "2025-07-20T02:43:24.928589Z"
    }
   },
   "source": "import pandas as pd",
   "outputs": [],
   "execution_count": 3
  },
  {
   "metadata": {
    "ExecuteTime": {
     "end_time": "2025-07-20T04:40:24.700419Z",
     "start_time": "2025-07-20T04:40:22.645394Z"
    }
   },
   "cell_type": "code",
   "source": [
    "data = pd.read_csv(\"data.csv\")\n",
    "data = data.sample(frac=1)[:500]\n",
    "data"
   ],
   "id": "edc8fc65b93db912",
   "outputs": [
    {
     "data": {
      "text/plain": [
       "                                                    text  generated\n",
       "24325  In those years more and more people try their ...          1\n",
       "28518  The Automobile Industry has done nothing but g...          0\n",
       "10996  When you see this face like formation what do ...          0\n",
       "26881  Mental health is a growing concern in our soci...          1\n",
       "24416  Young people in a country are important resour...          1\n",
       "...                                                  ...        ...\n",
       "9983   Unmasking the Face on Mars\\n\\n\"Come over here ...          0\n",
       "12043  I bet your wondering what a Electoral college ...          0\n",
       "3760   Drivers should be able to use phones while dri...          0\n",
       "1192   I agree that changing to election by popular v...          0\n",
       "27106  When one thinks of the word success, many defi...          1\n",
       "\n",
       "[500 rows x 2 columns]"
      ],
      "text/html": [
       "<div>\n",
       "<style scoped>\n",
       "    .dataframe tbody tr th:only-of-type {\n",
       "        vertical-align: middle;\n",
       "    }\n",
       "\n",
       "    .dataframe tbody tr th {\n",
       "        vertical-align: top;\n",
       "    }\n",
       "\n",
       "    .dataframe thead th {\n",
       "        text-align: right;\n",
       "    }\n",
       "</style>\n",
       "<table border=\"1\" class=\"dataframe\">\n",
       "  <thead>\n",
       "    <tr style=\"text-align: right;\">\n",
       "      <th></th>\n",
       "      <th>text</th>\n",
       "      <th>generated</th>\n",
       "    </tr>\n",
       "  </thead>\n",
       "  <tbody>\n",
       "    <tr>\n",
       "      <th>24325</th>\n",
       "      <td>In those years more and more people try their ...</td>\n",
       "      <td>1</td>\n",
       "    </tr>\n",
       "    <tr>\n",
       "      <th>28518</th>\n",
       "      <td>The Automobile Industry has done nothing but g...</td>\n",
       "      <td>0</td>\n",
       "    </tr>\n",
       "    <tr>\n",
       "      <th>10996</th>\n",
       "      <td>When you see this face like formation what do ...</td>\n",
       "      <td>0</td>\n",
       "    </tr>\n",
       "    <tr>\n",
       "      <th>26881</th>\n",
       "      <td>Mental health is a growing concern in our soci...</td>\n",
       "      <td>1</td>\n",
       "    </tr>\n",
       "    <tr>\n",
       "      <th>24416</th>\n",
       "      <td>Young people in a country are important resour...</td>\n",
       "      <td>1</td>\n",
       "    </tr>\n",
       "    <tr>\n",
       "      <th>...</th>\n",
       "      <td>...</td>\n",
       "      <td>...</td>\n",
       "    </tr>\n",
       "    <tr>\n",
       "      <th>9983</th>\n",
       "      <td>Unmasking the Face on Mars\\n\\n\"Come over here ...</td>\n",
       "      <td>0</td>\n",
       "    </tr>\n",
       "    <tr>\n",
       "      <th>12043</th>\n",
       "      <td>I bet your wondering what a Electoral college ...</td>\n",
       "      <td>0</td>\n",
       "    </tr>\n",
       "    <tr>\n",
       "      <th>3760</th>\n",
       "      <td>Drivers should be able to use phones while dri...</td>\n",
       "      <td>0</td>\n",
       "    </tr>\n",
       "    <tr>\n",
       "      <th>1192</th>\n",
       "      <td>I agree that changing to election by popular v...</td>\n",
       "      <td>0</td>\n",
       "    </tr>\n",
       "    <tr>\n",
       "      <th>27106</th>\n",
       "      <td>When one thinks of the word success, many defi...</td>\n",
       "      <td>1</td>\n",
       "    </tr>\n",
       "  </tbody>\n",
       "</table>\n",
       "<p>500 rows × 2 columns</p>\n",
       "</div>"
      ]
     },
     "execution_count": 23,
     "metadata": {},
     "output_type": "execute_result"
    }
   ],
   "execution_count": 23
  },
  {
   "metadata": {
    "ExecuteTime": {
     "end_time": "2025-07-20T04:40:46.145224Z",
     "start_time": "2025-07-20T04:40:27.704448Z"
    }
   },
   "cell_type": "code",
   "source": [
    "from transformers import BertTokenizer\n",
    "\n",
    "bert_tokenizer = BertTokenizer.from_pretrained(\"bert-base-uncased\")\n",
    "\n",
    "text = list(data['text'])\n",
    "bert_inputs = bert_tokenizer(text, return_tensors='pt', padding=True, truncation=True)"
   ],
   "id": "39f698652d46ac16",
   "outputs": [],
   "execution_count": 24
  },
  {
   "metadata": {
    "ExecuteTime": {
     "end_time": "2025-07-20T04:44:04.777293Z",
     "start_time": "2025-07-20T04:42:31.604713Z"
    }
   },
   "cell_type": "code",
   "source": [
    "import torch\n",
    "from transformers import BertModel\n",
    "\n",
    "bert_model = BertModel.from_pretrained(\"google-bert/bert-base-uncased\")\n",
    "with torch.no_grad():\n",
    "    outputs = bert_model(**bert_inputs)\n",
    "print(outputs)"
   ],
   "id": "ceb377fd66799afb",
   "outputs": [
    {
     "name": "stdout",
     "output_type": "stream",
     "text": [
      "BaseModelOutputWithPoolingAndCrossAttentions(last_hidden_state=tensor([[[ 0.1562, -0.2098, -0.2705,  ..., -0.3440,  0.5207,  0.4014],\n",
      "         [-0.8397,  0.4099,  0.1915,  ..., -0.6266,  0.5882, -0.2253],\n",
      "         [-1.0523,  0.2000,  0.0777,  ..., -0.8794,  0.2930, -0.3421],\n",
      "         ...,\n",
      "         [ 0.3507, -0.2152,  0.0066,  ...,  0.0143,  0.0908,  0.0506],\n",
      "         [ 0.2537,  0.0362,  0.0835,  ...,  0.1432,  0.4042, -0.0020],\n",
      "         [-0.5015, -0.8341, -0.0482,  ...,  0.3702,  0.3619, -0.3079]],\n",
      "\n",
      "        [[-0.3526, -0.5830,  0.1561,  ..., -0.3370,  0.6153, -0.1322],\n",
      "         [-0.2174,  0.1510,  0.1439,  ...,  0.2759,  1.3143,  0.3600],\n",
      "         [ 0.3815,  0.7819,  1.4742,  ..., -1.0384, -0.0542,  0.0840],\n",
      "         ...,\n",
      "         [ 0.1779, -0.3295,  0.1279,  ..., -0.0186,  0.7232, -1.0272],\n",
      "         [ 0.4135, -0.1944,  0.6412,  ..., -0.0734,  0.7517, -0.8378],\n",
      "         [-0.8593, -0.0942,  0.6461,  ...,  0.2696,  0.0867, -0.7414]],\n",
      "\n",
      "        [[-0.1972, -0.0786,  0.2429,  ..., -0.3757,  0.8607,  0.1257],\n",
      "         [-0.3654,  0.4796,  0.3267,  ..., -0.1340,  0.6104,  0.2049],\n",
      "         [-0.6700, -0.1978,  0.9866,  ...,  0.0633,  0.8202, -0.2083],\n",
      "         ...,\n",
      "         [ 0.3068,  0.1247,  0.3044,  ..., -0.0396,  0.4930, -0.1853],\n",
      "         [-0.0539, -0.5851,  0.2748,  ...,  0.2372,  0.4178, -0.1453],\n",
      "         [ 0.2966,  0.0709,  0.4350,  ..., -0.0022,  0.0211, -0.1295]],\n",
      "\n",
      "        ...,\n",
      "\n",
      "        [[ 0.1535, -0.1699,  0.2444,  ..., -0.5883,  0.6818,  0.3178],\n",
      "         [ 0.2747, -0.1904, -0.0883,  ..., -0.3046,  0.5249,  0.3974],\n",
      "         [ 0.5754,  0.2424,  0.1194,  ..., -0.3307, -0.0441, -0.3543],\n",
      "         ...,\n",
      "         [ 0.1083, -0.0370,  0.3313,  ..., -0.0356, -0.6122, -0.0062],\n",
      "         [ 0.1692, -0.0708,  0.4641,  ..., -0.1113, -0.3009, -0.2379],\n",
      "         [ 0.1552, -0.0114,  0.5657,  ..., -0.1688, -0.2289, -0.4178]],\n",
      "\n",
      "        [[-0.4327, -0.2553, -0.5918,  ..., -0.3500,  0.4872,  0.4533],\n",
      "         [ 0.3200, -0.1335,  0.0764,  ...,  0.2841,  1.1568,  0.1604],\n",
      "         [ 0.0544,  0.5954,  0.5299,  ..., -0.0331,  0.7634,  0.4180],\n",
      "         ...,\n",
      "         [-0.2951,  0.4205, -0.1102,  ...,  0.0521, -0.0573, -0.1792],\n",
      "         [-0.3748, -0.0884, -0.1005,  ..., -0.4634, -0.0196, -0.6581],\n",
      "         [-0.0135,  0.2101, -0.2836,  ...,  0.4101, -0.1381, -0.0569]],\n",
      "\n",
      "        [[ 0.5498, -0.2598, -0.4674,  ..., -0.2768,  0.3214,  0.0413],\n",
      "         [-0.6764,  1.0357,  0.2899,  ...,  0.0578,  0.0085,  0.5875],\n",
      "         [-0.7651,  0.3258,  0.1735,  ...,  0.4288,  0.1783,  0.8266],\n",
      "         ...,\n",
      "         [ 0.0080,  0.0880,  0.1163,  ..., -0.1492, -0.4209, -0.1070],\n",
      "         [ 0.3025, -0.1394,  0.1494,  ..., -0.3755, -0.2620, -0.3478],\n",
      "         [ 0.1713, -0.0786,  0.4631,  ..., -0.1338, -0.1975, -0.4903]]]), pooler_output=tensor([[-0.8521, -0.5523, -0.9890,  ..., -0.9528, -0.6560,  0.7576],\n",
      "        [-0.6633, -0.6939, -0.9720,  ..., -0.8441, -0.7245,  0.3902],\n",
      "        [-0.6022, -0.5118, -0.9985,  ..., -0.9927, -0.5610,  0.1030],\n",
      "        ...,\n",
      "        [-0.5264, -0.6435, -0.9971,  ..., -0.9899, -0.6647,  0.5550],\n",
      "        [-0.6872, -0.5546, -0.9799,  ..., -0.9685, -0.6186,  0.0800],\n",
      "        [-0.7893, -0.5844, -0.9885,  ..., -0.9700, -0.7183,  0.3646]]), hidden_states=None, past_key_values=None, attentions=None, cross_attentions=None)\n"
     ]
    }
   ],
   "execution_count": 26
  },
  {
   "metadata": {
    "ExecuteTime": {
     "end_time": "2025-07-20T04:44:04.801483Z",
     "start_time": "2025-07-20T04:44:04.784912Z"
    }
   },
   "cell_type": "code",
   "source": [
    "embeddings = []\n",
    "for embedding in outputs.last_hidden_state:\n",
    "    embeddings.append(embedding)"
   ],
   "id": "64a2e15124c1f855",
   "outputs": [],
   "execution_count": 27
  },
  {
   "metadata": {
    "ExecuteTime": {
     "end_time": "2025-07-20T04:44:04.863883Z",
     "start_time": "2025-07-20T04:44:04.806755Z"
    }
   },
   "cell_type": "code",
   "source": "data['embeddings'] = embeddings",
   "id": "aaef75cea4f5a164",
   "outputs": [],
   "execution_count": 28
  },
  {
   "metadata": {
    "ExecuteTime": {
     "end_time": "2025-07-20T04:44:18.731561Z",
     "start_time": "2025-07-20T04:44:04.865866Z"
    }
   },
   "cell_type": "code",
   "source": "data",
   "id": "433ddf31da59022c",
   "outputs": [
    {
     "data": {
      "text/plain": [
       "                                                    text  generated  \\\n",
       "24325  In those years more and more people try their ...          1   \n",
       "28518  The Automobile Industry has done nothing but g...          0   \n",
       "10996  When you see this face like formation what do ...          0   \n",
       "26881  Mental health is a growing concern in our soci...          1   \n",
       "24416  Young people in a country are important resour...          1   \n",
       "...                                                  ...        ...   \n",
       "9983   Unmasking the Face on Mars\\n\\n\"Come over here ...          0   \n",
       "12043  I bet your wondering what a Electoral college ...          0   \n",
       "3760   Drivers should be able to use phones while dri...          0   \n",
       "1192   I agree that changing to election by popular v...          0   \n",
       "27106  When one thinks of the word success, many defi...          1   \n",
       "\n",
       "                                              embeddings  \n",
       "24325  [[tensor(0.1562), tensor(-0.2098), tensor(-0.2...  \n",
       "28518  [[tensor(-0.3526), tensor(-0.5830), tensor(0.1...  \n",
       "10996  [[tensor(-0.1972), tensor(-0.0786), tensor(0.2...  \n",
       "26881  [[tensor(0.0992), tensor(-0.1845), tensor(-0.0...  \n",
       "24416  [[tensor(0.0259), tensor(-0.0295), tensor(-0.3...  \n",
       "...                                                  ...  \n",
       "9983   [[tensor(-0.5847), tensor(-0.2952), tensor(0.4...  \n",
       "12043  [[tensor(-0.1792), tensor(-0.3324), tensor(0.4...  \n",
       "3760   [[tensor(0.1535), tensor(-0.1699), tensor(0.24...  \n",
       "1192   [[tensor(-0.4327), tensor(-0.2553), tensor(-0....  \n",
       "27106  [[tensor(0.5498), tensor(-0.2598), tensor(-0.4...  \n",
       "\n",
       "[500 rows x 3 columns]"
      ],
      "text/html": [
       "<div>\n",
       "<style scoped>\n",
       "    .dataframe tbody tr th:only-of-type {\n",
       "        vertical-align: middle;\n",
       "    }\n",
       "\n",
       "    .dataframe tbody tr th {\n",
       "        vertical-align: top;\n",
       "    }\n",
       "\n",
       "    .dataframe thead th {\n",
       "        text-align: right;\n",
       "    }\n",
       "</style>\n",
       "<table border=\"1\" class=\"dataframe\">\n",
       "  <thead>\n",
       "    <tr style=\"text-align: right;\">\n",
       "      <th></th>\n",
       "      <th>text</th>\n",
       "      <th>generated</th>\n",
       "      <th>embeddings</th>\n",
       "    </tr>\n",
       "  </thead>\n",
       "  <tbody>\n",
       "    <tr>\n",
       "      <th>24325</th>\n",
       "      <td>In those years more and more people try their ...</td>\n",
       "      <td>1</td>\n",
       "      <td>[[tensor(0.1562), tensor(-0.2098), tensor(-0.2...</td>\n",
       "    </tr>\n",
       "    <tr>\n",
       "      <th>28518</th>\n",
       "      <td>The Automobile Industry has done nothing but g...</td>\n",
       "      <td>0</td>\n",
       "      <td>[[tensor(-0.3526), tensor(-0.5830), tensor(0.1...</td>\n",
       "    </tr>\n",
       "    <tr>\n",
       "      <th>10996</th>\n",
       "      <td>When you see this face like formation what do ...</td>\n",
       "      <td>0</td>\n",
       "      <td>[[tensor(-0.1972), tensor(-0.0786), tensor(0.2...</td>\n",
       "    </tr>\n",
       "    <tr>\n",
       "      <th>26881</th>\n",
       "      <td>Mental health is a growing concern in our soci...</td>\n",
       "      <td>1</td>\n",
       "      <td>[[tensor(0.0992), tensor(-0.1845), tensor(-0.0...</td>\n",
       "    </tr>\n",
       "    <tr>\n",
       "      <th>24416</th>\n",
       "      <td>Young people in a country are important resour...</td>\n",
       "      <td>1</td>\n",
       "      <td>[[tensor(0.0259), tensor(-0.0295), tensor(-0.3...</td>\n",
       "    </tr>\n",
       "    <tr>\n",
       "      <th>...</th>\n",
       "      <td>...</td>\n",
       "      <td>...</td>\n",
       "      <td>...</td>\n",
       "    </tr>\n",
       "    <tr>\n",
       "      <th>9983</th>\n",
       "      <td>Unmasking the Face on Mars\\n\\n\"Come over here ...</td>\n",
       "      <td>0</td>\n",
       "      <td>[[tensor(-0.5847), tensor(-0.2952), tensor(0.4...</td>\n",
       "    </tr>\n",
       "    <tr>\n",
       "      <th>12043</th>\n",
       "      <td>I bet your wondering what a Electoral college ...</td>\n",
       "      <td>0</td>\n",
       "      <td>[[tensor(-0.1792), tensor(-0.3324), tensor(0.4...</td>\n",
       "    </tr>\n",
       "    <tr>\n",
       "      <th>3760</th>\n",
       "      <td>Drivers should be able to use phones while dri...</td>\n",
       "      <td>0</td>\n",
       "      <td>[[tensor(0.1535), tensor(-0.1699), tensor(0.24...</td>\n",
       "    </tr>\n",
       "    <tr>\n",
       "      <th>1192</th>\n",
       "      <td>I agree that changing to election by popular v...</td>\n",
       "      <td>0</td>\n",
       "      <td>[[tensor(-0.4327), tensor(-0.2553), tensor(-0....</td>\n",
       "    </tr>\n",
       "    <tr>\n",
       "      <th>27106</th>\n",
       "      <td>When one thinks of the word success, many defi...</td>\n",
       "      <td>1</td>\n",
       "      <td>[[tensor(0.5498), tensor(-0.2598), tensor(-0.4...</td>\n",
       "    </tr>\n",
       "  </tbody>\n",
       "</table>\n",
       "<p>500 rows × 3 columns</p>\n",
       "</div>"
      ]
     },
     "execution_count": 29,
     "metadata": {},
     "output_type": "execute_result"
    }
   ],
   "execution_count": 29
  },
  {
   "metadata": {
    "ExecuteTime": {
     "end_time": "2025-07-20T04:46:47.052948Z",
     "start_time": "2025-07-20T04:46:46.899094Z"
    }
   },
   "cell_type": "code",
   "source": "data.to_csv(\"feature_engineered_embeddings\", index=False)",
   "id": "e8cc2ca066c2817b",
   "outputs": [],
   "execution_count": 30
  },
  {
   "metadata": {},
   "cell_type": "code",
   "outputs": [],
   "execution_count": null,
   "source": "",
   "id": "6460ea1e4e77451e"
  }
 ],
 "metadata": {
  "kernelspec": {
   "display_name": "Python 3",
   "language": "python",
   "name": "python3"
  },
  "language_info": {
   "codemirror_mode": {
    "name": "ipython",
    "version": 2
   },
   "file_extension": ".py",
   "mimetype": "text/x-python",
   "name": "python",
   "nbconvert_exporter": "python",
   "pygments_lexer": "ipython2",
   "version": "2.7.6"
  }
 },
 "nbformat": 4,
 "nbformat_minor": 5
}
