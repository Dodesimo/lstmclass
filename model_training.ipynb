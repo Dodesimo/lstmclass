{
 "cells": [
  {
   "cell_type": "code",
   "id": "initial_id",
   "metadata": {
    "collapsed": true,
    "ExecuteTime": {
     "end_time": "2025-07-25T21:40:40.133711Z",
     "start_time": "2025-07-25T21:40:35.462634Z"
    }
   },
   "source": [
    "import pandas as pd\n",
    "import torch\n",
    "from torch.utils.data import Dataset, DataLoader\n",
    "import numpy as np"
   ],
   "outputs": [],
   "execution_count": 2
  },
  {
   "metadata": {
    "ExecuteTime": {
     "end_time": "2025-07-25T21:40:40.137823Z",
     "start_time": "2025-07-25T21:40:40.134963Z"
    }
   },
   "cell_type": "code",
   "source": [
    "class AITextDataset(Dataset):\n",
    "    def __init__(self, data, labels):\n",
    "        self.data = data\n",
    "        self.labels = labels\n",
    "    \n",
    "    def __len__(self):\n",
    "        return len(self.data)\n",
    "    \n",
    "    def __getitem__(self, idx):\n",
    "        sample = self.data[idx]\n",
    "        label = self.labels[idx]\n",
    "        return sample, label"
   ],
   "id": "b5f72a2cdcb36a5f",
   "outputs": [],
   "execution_count": 3
  },
  {
   "metadata": {
    "ExecuteTime": {
     "end_time": "2025-07-25T21:40:40.863763Z",
     "start_time": "2025-07-25T21:40:40.837020Z"
    }
   },
   "cell_type": "code",
   "source": [
    "data = pd.read_csv(\"feature_engineered_embeddings\")\n",
    "shuffled = data.sample(frac = 1)\n",
    "splits = np.array_split(shuffled, 2)"
   ],
   "id": "4521e402a8041a57",
   "outputs": [
    {
     "name": "stderr",
     "output_type": "stream",
     "text": [
      "/Users/devammondal/PycharmProjects/lstm/venv/lib/python3.12/site-packages/numpy/_core/fromnumeric.py:57: FutureWarning: 'DataFrame.swapaxes' is deprecated and will be removed in a future version. Please use 'DataFrame.transpose' instead.\n",
      "  return bound(*args, **kwds)\n"
     ]
    }
   ],
   "execution_count": 4
  },
  {
   "metadata": {
    "ExecuteTime": {
     "end_time": "2025-07-25T21:40:42.821640Z",
     "start_time": "2025-07-25T21:40:42.806904Z"
    }
   },
   "cell_type": "code",
   "source": [
    "train = splits[0]\n",
    "test = splits[1]"
   ],
   "id": "75cbf92973220d51",
   "outputs": [],
   "execution_count": 5
  },
  {
   "metadata": {
    "ExecuteTime": {
     "end_time": "2025-07-25T21:40:43.629353Z",
     "start_time": "2025-07-25T21:40:43.623968Z"
    }
   },
   "cell_type": "code",
   "source": "print(train)",
   "id": "2bcee3bb681e600a",
   "outputs": [
    {
     "name": "stdout",
     "output_type": "stream",
     "text": [
      "                                                  text  generated  \\\n",
      "433  Although limiting car usage may seem out of th...          0   \n",
      "353  Cell phones Vs Driving\\n\\nI believe that peopl...          0   \n",
      "360  Should our way of voting in the United States ...          0   \n",
      "318  The so called \"Face\" on Mars brought an abunda...          0   \n",
      "365  It's a good idea for students to graduate of t...          0   \n",
      "..                                                 ...        ...   \n",
      "2    When you see this face like formation what do ...          0   \n",
      "194  1-24-2011\\r\\n\\r\\nDear principle,\\r\\n\\r\\nCommun...          0   \n",
      "87   Despite the conditions on Venus, the author su...          0   \n",
      "337  Is doing your best a problem? Personally I fee...          0   \n",
      "187  During the twentieh century, cars have been in...          1   \n",
      "\n",
      "                                            embeddings  \n",
      "433  tensor([[-0.1741, -0.1358, -0.4724,  ..., -0.1...  \n",
      "353  tensor([[ 0.2077, -0.2629, -0.3643,  ..., -0.2...  \n",
      "360  tensor([[-0.5999, -0.2342,  0.1664,  ..., -0.3...  \n",
      "318  tensor([[-1.0313, -0.5029,  0.2370,  ..., -0.3...  \n",
      "365  tensor([[-0.1426, -0.1645,  0.3248,  ..., -0.3...  \n",
      "..                                                 ...  \n",
      "2    tensor([[-0.1972, -0.0786,  0.2429,  ..., -0.3...  \n",
      "194  tensor([[ 0.4853, -0.2078, -0.4883,  ..., -0.4...  \n",
      "87   tensor([[-7.9963e-01, -2.6190e-01,  2.0467e-01...  \n",
      "337  tensor([[-0.1820, -0.5274, -0.1228,  ..., -0.1...  \n",
      "187  tensor([[ 0.0771, -0.2738, -0.2581,  ..., -0.3...  \n",
      "\n",
      "[250 rows x 3 columns]\n"
     ]
    }
   ],
   "execution_count": 6
  },
  {
   "metadata": {
    "ExecuteTime": {
     "end_time": "2025-07-25T21:40:44.649718Z",
     "start_time": "2025-07-25T21:40:44.646177Z"
    }
   },
   "cell_type": "code",
   "source": [
    "train_dataset = AITextDataset(data=list(train.embeddings), labels=list(train.generated))\n",
    "test_dataset = AITextDataset(data=list(test.embeddings), labels=list(train.generated))"
   ],
   "id": "4cedc28b114601a1",
   "outputs": [],
   "execution_count": 7
  },
  {
   "metadata": {
    "ExecuteTime": {
     "end_time": "2025-07-25T21:40:45.259248Z",
     "start_time": "2025-07-25T21:40:45.254458Z"
    }
   },
   "cell_type": "code",
   "source": [
    "class LSTM(torch.nn.Module):\n",
    "    def __init__(self, input, hidden, layer, output):\n",
    "        super(LSTM, self).__init__()\n",
    "        self.hidden = hidden\n",
    "        self.layer = layer\n",
    "        self.lstm = torch.nn.LSTM(input, hidden, layer, output, batch_first = True)\n",
    "        self.connected = torch.nn.Linear(hidden, output)\n",
    "        \n",
    "    def forward(self, x):\n",
    "        hidden_state = torch.zeros(self.layers, x.size(0), self.hidden)\n",
    "        memory = torch.zeros(self.layers, x.size(0), self.hidden)\n",
    "        out, _  = self.lstm(x, (hidden_state, memory))\n",
    "        out = self.fc(out[:, -1, :])\n",
    "        return out"
   ],
   "id": "31696d324f20db2c",
   "outputs": [],
   "execution_count": 8
  },
  {
   "metadata": {
    "ExecuteTime": {
     "end_time": "2025-07-25T21:45:46.194182Z",
     "start_time": "2025-07-25T21:45:46.182396Z"
    }
   },
   "cell_type": "code",
   "source": "model = LSTM(768, 64, 2, 2)",
   "id": "6deea55f7a5327a3",
   "outputs": [],
   "execution_count": 11
  },
  {
   "metadata": {
    "ExecuteTime": {
     "end_time": "2025-07-25T21:49:29.908470Z",
     "start_time": "2025-07-25T21:49:28.834433Z"
    }
   },
   "cell_type": "code",
   "source": [
    "loss = torch.nn.CrossEntropyLoss()\n",
    "optimizer = torch.optim.SGD(model.parameters())"
   ],
   "id": "2984ade0692c67d5",
   "outputs": [],
   "execution_count": 13
  },
  {
   "metadata": {
    "ExecuteTime": {
     "end_time": "2025-07-25T21:53:15.916623Z",
     "start_time": "2025-07-25T21:53:15.908897Z"
    }
   },
   "cell_type": "code",
   "source": [
    "train_loader = torch.utils.data.DataLoader(train_dataset, batch_size=1, shuffle = True)\n",
    "test_loader = torch.utils.data.DataLoader(test_dataset, batch_size=1, shuffle = True)"
   ],
   "id": "4936a0fa70d52fdf",
   "outputs": [],
   "execution_count": 14
  },
  {
   "metadata": {
    "ExecuteTime": {
     "end_time": "2025-07-25T21:53:36.659375Z",
     "start_time": "2025-07-25T21:53:36.628413Z"
    }
   },
   "cell_type": "code",
   "source": [
    "EPOCHS = 100\n",
    "for epoch in range(epochs):\n",
    "    "
   ],
   "id": "5af12d951142503d",
   "outputs": [
    {
     "name": "stdout",
     "output_type": "stream",
     "text": [
      "0\n",
      "[('tensor([[ 0.2077, -0.2629, -0.3643,  ..., -0.2002,  0.4922,  0.2078],\\n        [ 0.4252, -0.0920,  0.2431,  ..., -0.1267,  0.8453,  0.4511],\\n        [ 0.6246,  0.0164,  0.8906,  ..., -0.3001, -0.0081,  0.2748],\\n        ...,\\n        [ 0.4442,  0.1807,  0.3336,  ..., -0.2656, -0.2425, -0.2245],\\n        [ 0.3885, -0.0797,  0.4534,  ..., -0.1574, -0.2558, -0.2853],\\n        [ 0.2647, -0.1116,  0.5379,  ..., -0.1460, -0.2370, -0.3722]])',), tensor([0])]\n"
     ]
    }
   ],
   "execution_count": 15
  },
  {
   "metadata": {},
   "cell_type": "code",
   "outputs": [],
   "execution_count": null,
   "source": "",
   "id": "1ae3f4c81b2b25e1"
  }
 ],
 "metadata": {
  "kernelspec": {
   "display_name": "Python 3",
   "language": "python",
   "name": "python3"
  },
  "language_info": {
   "codemirror_mode": {
    "name": "ipython",
    "version": 2
   },
   "file_extension": ".py",
   "mimetype": "text/x-python",
   "name": "python",
   "nbconvert_exporter": "python",
   "pygments_lexer": "ipython2",
   "version": "2.7.6"
  }
 },
 "nbformat": 4,
 "nbformat_minor": 5
}
