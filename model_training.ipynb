{
 "cells": [
  {
   "cell_type": "code",
   "id": "initial_id",
   "metadata": {
    "collapsed": true,
    "ExecuteTime": {
     "end_time": "2025-07-21T03:58:52.899057Z",
     "start_time": "2025-07-21T03:58:52.895497Z"
    }
   },
   "source": [
    "import pandas as pd\n",
    "import torch\n",
    "from torch.utils.data import Dataset, DataLoader\n",
    "import numpy as np"
   ],
   "outputs": [],
   "execution_count": 37
  },
  {
   "metadata": {
    "ExecuteTime": {
     "end_time": "2025-07-21T03:55:10.656502Z",
     "start_time": "2025-07-21T03:55:10.652412Z"
    }
   },
   "cell_type": "code",
   "source": [
    "class AITextDataset(Dataset):\n",
    "    def __init__(self, data, labels):\n",
    "        self.data = data\n",
    "        self.labels = labels\n",
    "    \n",
    "    def __len__(self):\n",
    "        return len(self.data)\n",
    "    \n",
    "    def __getitem__(self, idx):\n",
    "        sample = self.data[idx]\n",
    "        label = self.labels[idx]\n",
    "        return sample, label"
   ],
   "id": "b5f72a2cdcb36a5f",
   "outputs": [],
   "execution_count": 33
  },
  {
   "metadata": {
    "ExecuteTime": {
     "end_time": "2025-07-21T03:59:00.056899Z",
     "start_time": "2025-07-21T03:59:00.029325Z"
    }
   },
   "cell_type": "code",
   "source": [
    "data = pd.read_csv(\"feature_engineered_embeddings\")\n",
    "shuffled = data.sample(frac = 1)\n",
    "splits = np.array_split(shuffled, 2)"
   ],
   "id": "4521e402a8041a57",
   "outputs": [
    {
     "name": "stderr",
     "output_type": "stream",
     "text": [
      "/Users/devammondal/PycharmProjects/lstm/venv/lib/python3.12/site-packages/numpy/_core/fromnumeric.py:57: FutureWarning: 'DataFrame.swapaxes' is deprecated and will be removed in a future version. Please use 'DataFrame.transpose' instead.\n",
      "  return bound(*args, **kwds)\n"
     ]
    }
   ],
   "execution_count": 38
  },
  {
   "metadata": {
    "ExecuteTime": {
     "end_time": "2025-07-21T03:59:49.931307Z",
     "start_time": "2025-07-21T03:59:49.927978Z"
    }
   },
   "cell_type": "code",
   "source": [
    "train = splits[0]\n",
    "test = splits[1]"
   ],
   "id": "75cbf92973220d51",
   "outputs": [],
   "execution_count": 40
  },
  {
   "metadata": {
    "ExecuteTime": {
     "end_time": "2025-07-21T04:01:17.021722Z",
     "start_time": "2025-07-21T04:01:17.017405Z"
    }
   },
   "cell_type": "code",
   "source": "print(train)",
   "id": "2bcee3bb681e600a",
   "outputs": [
    {
     "name": "stdout",
     "output_type": "stream",
     "text": [
      "463    tensor([[-0.7836, -0.1589, -0.8293,  ..., -0.2...\n",
      "184    tensor([[-0.0663, -0.5761,  0.0558,  ..., -0.5...\n",
      "195    tensor([[-0.2155, -0.5152, -0.6853,  ..., -0.0...\n",
      "261    tensor([[ 0.0357, -0.2571, -0.3682,  ..., -0.3...\n",
      "434    tensor([[ 0.1848, -0.1177,  0.4368,  ..., -0.3...\n",
      "                             ...                        \n",
      "444    tensor([[-1.4085, -0.2008,  0.2528,  ..., -0.2...\n",
      "308    tensor([[ 0.0111, -0.2218, -0.4980,  ..., -0.4...\n",
      "88     tensor([[-0.2468, -0.3200, -0.2475,  ..., -0.4...\n",
      "5      tensor([[-0.8927,  0.0925,  0.0235,  ..., -0.5...\n",
      "353    tensor([[ 0.2077, -0.2629, -0.3643,  ..., -0.2...\n",
      "Name: embeddings, Length: 250, dtype: object\n"
     ]
    }
   ],
   "execution_count": 43
  },
  {
   "metadata": {
    "ExecuteTime": {
     "end_time": "2025-07-21T04:03:25.117545Z",
     "start_time": "2025-07-21T04:03:25.114363Z"
    }
   },
   "cell_type": "code",
   "source": [
    "train_dataset = AITextDataset(data=list(train.embeddings), labels=list(train.generated))\n",
    "test_dataset = AITextDataset(data=list(test.embeddings), labels=list(train.generated))"
   ],
   "id": "4cedc28b114601a1",
   "outputs": [],
   "execution_count": 53
  },
  {
   "metadata": {},
   "cell_type": "code",
   "outputs": [],
   "execution_count": null,
   "source": "",
   "id": "31696d324f20db2c"
  }
 ],
 "metadata": {
  "kernelspec": {
   "display_name": "Python 3",
   "language": "python",
   "name": "python3"
  },
  "language_info": {
   "codemirror_mode": {
    "name": "ipython",
    "version": 2
   },
   "file_extension": ".py",
   "mimetype": "text/x-python",
   "name": "python",
   "nbconvert_exporter": "python",
   "pygments_lexer": "ipython2",
   "version": "2.7.6"
  }
 },
 "nbformat": 4,
 "nbformat_minor": 5
}
